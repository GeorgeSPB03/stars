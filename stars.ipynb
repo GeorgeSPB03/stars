{
 "cells": [
  {
   "cell_type": "markdown",
   "metadata": {},
   "source": [
    "Загрузка библиотек"
   ]
  },
  {
   "cell_type": "code",
   "execution_count": 1,
   "metadata": {},
   "outputs": [],
   "source": [
    "import cv2\n",
    "from ultralytics import YOLO\n",
    "import numpy as np\n",
    "import matplotlib.pyplot as plt\n",
    "#import ipywidgets as widgets           данные библиотеки нужны для интерактивного вывода, где нужно \"поиграться\" с размерами, метриками \n",
    "#from ipywidgets import interact \n",
    "import torch"
   ]
  },
  {
   "cell_type": "markdown",
   "metadata": {},
   "source": [
    "Загрузка модели"
   ]
  },
  {
   "cell_type": "code",
   "execution_count": 2,
   "metadata": {},
   "outputs": [],
   "source": [
    "model = YOLO('C:/Users/la-li/Desktop/STARS/OBB/yolo8s/weights/best.pt')\n",
    "             "
   ]
  },
  {
   "cell_type": "markdown",
   "metadata": {},
   "source": [
    "Инференс модели. Просмотр изображений"
   ]
  },
  {
   "cell_type": "code",
   "execution_count": 13,
   "metadata": {},
   "outputs": [
    {
     "name": "stdout",
     "output_type": "stream",
     "text": [
      "WARNING  imgsz=[1000] must be multiple of max stride 32, updating to [1024]\n"
     ]
    }
   ],
   "source": [
    "\n",
    "\n",
    "# Загрузка изображения\n",
    "img = cv2.imread('C:/Users/la-li/Desktop/STARS/OBB/images_test/0050_test.jpg')\n",
    "\n",
    "# Инференс с использованием модели YOLO OBB\n",
    "results = model(img, imgsz=1000, iou=0.4, conf=0.2, verbose=False)\n",
    "\n",
    "# Переменные для масштабирования и перемещения\n",
    "scale = 1.0\n",
    "x_offset, y_offset = 0, 0\n",
    "start_x, start_y = 0, 0\n",
    "dragging = False\n",
    "window_name = 'Image'\n",
    "window_height = img.shape[0]\n",
    "window_width = img.shape[1]\n",
    "\n",
    "# повернутые боксы\n",
    "\n",
    "def draw_rotated_bbox(image, bbox, scale, x_offset, y_offset):\n",
    "    bbox = bbox.cpu().numpy()\n",
    "    cx, cy, w, h, angle = bbox\n",
    "    \n",
    "    # Применение масштабирования и смещения\n",
    "    cx = cx * scale - x_offset\n",
    "    cy = cy * scale - y_offset\n",
    "    w = w * scale\n",
    "    h = h * scale\n",
    "    \n",
    "    rect = ((int(cx), int(cy)), (int(w), int(h)), (angle * 180 / np.pi))\n",
    "    \n",
    "    # Преобразование центра и размера bbox в целочисленные значения\n",
    "    box = cv2.boxPoints(rect)\n",
    "    box = box.astype(int)\n",
    "    cv2.drawContours(image, [box], 0, (0, 255, 0), 1)  # Зеленая рамка\n",
    "\n",
    "    rect = ((int(cx), int(cy)), (int(w), int(h)), int(0))\n",
    "    \n",
    "    # Преобразование центра и размера bbox в целочисленные значения\n",
    "    box = cv2.boxPoints(rect)\n",
    "    box = box.astype(int)\n",
    "    cv2.drawContours(image, [box], 0, (255, 255, 255), 1)\n",
    "\n",
    "# Функция для отображения изображения с учетом масштаба и смещения\n",
    "def display_image():\n",
    "    global img, scale, x_offset, y_offset, window_width, window_height\n",
    "    h, w = img.shape[:2]\n",
    "    new_w, new_h = int(w * scale), int(h * scale)\n",
    "    resized = cv2.resize(img, (new_w, new_h))\n",
    "    display_img = np.zeros((window_height, window_width, 3), dtype=np.uint8)\n",
    "\n",
    "    x_start = max(0, -x_offset)\n",
    "    y_start = max(0, -y_offset)\n",
    "    x_end = min(window_width, new_w - x_offset)\n",
    "    y_end = min(window_height, new_h - y_offset)\n",
    "\n",
    "    img_x_start = max(0, x_offset)\n",
    "    img_y_start = max(0, y_offset)\n",
    "    img_x_end = img_x_start + (x_end - x_start)\n",
    "    img_y_end = img_y_start + (y_end - y_start)\n",
    "\n",
    "    display_img[y_start:y_end, x_start:x_end] = resized[img_y_start:img_y_end, img_x_start:img_x_end]\n",
    "\n",
    "    # Отрисовка bbox на изображении\n",
    "    for bbox in results[0].obb.xywhr:\n",
    "        draw_rotated_bbox(display_img, bbox, scale, x_offset, y_offset)\n",
    "        \n",
    "        # Добавление подписи угла поворота\n",
    "        angle = bbox[4] * 180 / np.pi\n",
    "        label = f\"{angle:.4f} grad\"\n",
    "        cv2.putText(display_img, label, (int(bbox[0] * scale - x_offset), int(bbox[1] * scale + bbox[3] * scale / 2 - y_offset + 20)),\n",
    "                    cv2.FONT_HERSHEY_SIMPLEX, 0.5, (0, 0, 255), 1)\n",
    "    \n",
    "    cv2.imshow(window_name, display_img)\n",
    "\n",
    "# Обработка событий мыши\n",
    "def mouse_callback(event, x, y, flags, param):\n",
    "    global scale, x_offset, y_offset, start_x, start_y, dragging\n",
    "\n",
    "    if event == cv2.EVENT_MOUSEWHEEL:\n",
    "        old_scale = scale\n",
    "        if flags > 0:\n",
    "            scale *= 1.1  # Увеличение\n",
    "        else:\n",
    "            scale /= 1.1  # Уменьшение\n",
    "\n",
    "        # Обновление смещения для центра масштабирования\n",
    "        x_offset = int((x_offset + x - window_width // 2) * scale / old_scale + window_width // 2 - x)\n",
    "        y_offset = int((y_offset + y - window_height // 2) * scale / old_scale + window_height // 2 - y)\n",
    "        display_image()\n",
    "\n",
    "    elif event == cv2.EVENT_LBUTTONDOWN:\n",
    "        dragging = True\n",
    "        start_x, start_y = x, y\n",
    "\n",
    "    elif event == cv2.EVENT_MOUSEMOVE:\n",
    "        if dragging:\n",
    "            x_offset += (start_x - x)\n",
    "            y_offset += (start_y - y)\n",
    "            start_x, start_y = x, y\n",
    "            display_image()\n",
    "\n",
    "    elif event == cv2.EVENT_LBUTTONUP:\n",
    "        dragging = False\n",
    "\n",
    "# Настройка окна и обратного вызова\n",
    "cv2.namedWindow(window_name, cv2.WINDOW_NORMAL)\n",
    "cv2.resizeWindow(window_name, window_width, window_height)\n",
    "cv2.setMouseCallback(window_name, mouse_callback)\n",
    "display_image()\n",
    "\n",
    "# Ожидание закрытия окна\n",
    "cv2.waitKey(0)\n",
    "cv2.destroyAllWindows()\n"
   ]
  },
  {
   "cell_type": "markdown",
   "metadata": {},
   "source": [
    "Расчеты "
   ]
  },
  {
   "cell_type": "code",
   "execution_count": 11,
   "metadata": {},
   "outputs": [
    {
     "name": "stdout",
     "output_type": "stream",
     "text": [
      "(tensor(398.1362), tensor(158.1746)) (tensor(407.6489), tensor(145.1530))\n",
      "tensor(16.1262)\n",
      "tensor(23.2924)\n"
     ]
    }
   ],
   "source": [
    "# Вытаскиваем координаты \n",
    "x, y, w, h, r = results[0].obb.xywhr[0]\n",
    "# Рассчитываем начальные и конечные координаты \n",
    "x_0 = x - 0.5*(w*np.cos(r) - h * np.cos(r))\n",
    "x_1 = x + 0.5*(w*np.cos(r) - h * np.cos(r))\n",
    "y_0 = y + 0.5*(w*np.sin(r) - h * np.sin(r))\n",
    "y_1 = y - 0.5*(w*np.cos(r) - h * np.cos(r))\n",
    "# Записываем длину(по Евкликодову расстоянию), ширину, угол направления\n",
    "length = np.sqrt((x_1 - x_0)**2 + (y_1 - y_0)**2)\n",
    "width = w \n",
    "print((x_0, y_0), (x_1, y_1))\n",
    "print(length)\n",
    "print(w)"
   ]
  },
  {
   "cell_type": "markdown",
   "metadata": {},
   "source": [
    "Алгоритм нахождения сред яркости объекта"
   ]
  },
  {
   "cell_type": "code",
   "execution_count": 11,
   "metadata": {},
   "outputs": [
    {
     "name": "stdout",
     "output_type": "stream",
     "text": [
      "WARNING  imgsz=[1000] must be multiple of max stride 32, updating to [1024]\n"
     ]
    },
    {
     "name": "stdout",
     "output_type": "stream",
     "text": [
      "Средняя яркость объекта 1: 67.86\n",
      "Средняя яркость объекта 2: 124.54\n",
      "Средняя яркость объекта 3: 73.07\n",
      "Средняя яркость объекта 4: 72.32\n",
      "Средняя яркость объекта 5: 69.18\n",
      "Средняя яркость объекта 6: 61.72\n",
      "Средняя яркость объекта 7: 66.94\n",
      "Средняя яркость объекта 8: 65.30\n"
     ]
    }
   ],
   "source": [
    "# Функция для сегментации объекта и вычисления средней яркости\n",
    "def calculate_average_brightness(image, bbox):\n",
    "    cx, cy, w, h, angle = bbox\n",
    "    rect = ((int(cx), int(cy)), (int(w), int(h)), (angle * 180 / np.pi))\n",
    "    box = cv2.boxPoints(rect).astype(int)\n",
    "\n",
    "    mask = np.zeros_like(image)\n",
    "    cv2.fillPoly(mask, [box], 255)\n",
    "\n",
    "    # Наложение маски на оригинальное изображение\n",
    "    masked_image = cv2.bitwise_and(image, mask)\n",
    "\n",
    "    # Применение Canny для выделения границ\n",
    "    edges = cv2.Canny(masked_image, 50, 150)\n",
    "\n",
    "    # Нахождение контуров\n",
    "    contours, _ = cv2.findContours(edges, cv2.RETR_EXTERNAL, cv2.CHAIN_APPROX_SIMPLE)\n",
    "\n",
    "    # Создание маски на основе контуров\n",
    "    object_mask = np.zeros_like(image)\n",
    "    cv2.drawContours(object_mask, contours, -1, 255, thickness=cv2.FILLED)\n",
    "\n",
    "    object_pixels = image[object_mask > 0]\n",
    "    if len(object_pixels) > 0:\n",
    "        average_brightness = np.mean(object_pixels)\n",
    "    else:\n",
    "        average_brightness = 0\n",
    "    return average_brightness\n",
    "\n",
    "# Основная функция\n",
    "def main(image_path, model):\n",
    "    # Загрузка изображения\n",
    "    img = cv2.imread(image_path)\n",
    "\n",
    "    # Инференс с использованием модели YOLO OBB\n",
    "    results = model(img, imgsz=1000, iou=0.4, conf=0.2, verbose=False)\n",
    "\n",
    "    # Перебор всех найденных объектов и вычисление средней яркости\n",
    "    for i, bbox in enumerate(results[0].obb.xywhr):\n",
    "        bbox = bbox.cpu().numpy()\n",
    "        avg_brightness = calculate_average_brightness(img, bbox)\n",
    "        print(f\"Средняя яркость объекта {i+1}: {avg_brightness:.2f}\")\n",
    "\n",
    
    "main('C:/Users/la-li/Desktop/STARS/OBB/images_test/0050_test.jpg', model)\n"
   ]
  },
  {
   "cell_type": "markdown",
   "metadata": {},
   "source": [
    "Проверка угла звезды\n"
   ]
  },
  {
   "cell_type": "code",
   "execution_count": 16,
   "metadata": {},
   "outputs": [
    {
     "name": "stdout",
     "output_type": "stream",
     "text": [
      "tensor(60.0814)\n",
      "tensor(61.2092)\n",
      "tensor(60.5280)\n",
      "tensor(60.6757)\n",
      "tensor(58.1387)\n",
      "tensor(61.7914)\n",
      "tensor(27.0251)\n",
      "tensor(151.6768)\n"
     ]
    }
   ],
   "source": [
    "for res in results[0].obb.xywhr:\n",
    "    print(res[4]*180/np.pi)"
   ]
  },
  {
   "cell_type": "markdown",
   "metadata": {},
   "source": [
    "Экспорт параметров объекта"
   ]
  },
  {
   "cell_type": "code",
   "execution_count": 20,
   "metadata": {},
   "outputs": [
    {
     "data": {
      "text/plain": [
       "tensor([[4.0289e+02, 1.4991e+02, 2.3292e+01, 4.2201e+00, 1.0486e+00],\n",
       "        [3.5119e+02, 4.4389e+02, 2.5080e+01, 4.3949e+00, 1.0683e+00],\n",
       "        [6.2288e+02, 9.2456e+01, 1.9954e+01, 3.8999e+00, 1.0564e+00],\n",
       "        [8.4680e+02, 1.4924e+02, 2.0642e+01, 3.7089e+00, 1.0590e+00],\n",
       "        [4.7513e+01, 2.9733e+02, 2.1030e+01, 5.2711e+00, 1.0147e+00],\n",
       "        [7.0525e+02, 6.3597e+02, 2.1401e+01, 4.4021e+00, 1.0785e+00],\n",
       "        [7.5568e+02, 5.6065e+02, 1.8786e+01, 4.3503e+00, 4.7168e-01],\n",
       "        [3.5879e+02, 3.8044e+02, 1.7103e+01, 3.6754e+00, 2.6473e+00]])"
      ]
     },
     "execution_count": 20,
     "metadata": {},
     "output_type": "execute_result"
    }
   ],
   "source": [
    "results[0].obb.xywhr"
   ]
  }
 ],
 "metadata": {
  "kernelspec": {
   "display_name": "base",
   "language": "python",
   "name": "python3"
  },
  "language_info": {
   "codemirror_mode": {
    "name": "ipython",
    "version": 3
   },
   "file_extension": ".py",
   "mimetype": "text/x-python",
   "name": "python",
   "nbconvert_exporter": "python",
   "pygments_lexer": "ipython3",
   "version": "3.11.5"
  }
 },
 "nbformat": 4,
 "nbformat_minor": 2
}
